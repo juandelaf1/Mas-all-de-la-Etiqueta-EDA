{
 "cells": [
  {
   "cell_type": "code",
   "execution_count": 4,
   "metadata": {},
   "outputs": [],
   "source": [
    "import pandas as pd\n",
    "import numpy as np\n",
    "import seaborn as sns\n",
    "import matplotlib.pyplot as plt"
   ]
  },
  {
   "cell_type": "code",
   "execution_count": 5,
   "metadata": {},
   "outputs": [],
   "source": [
    "consumo_espana= pd.read_csv(\"totales_vino_y_otros.csv\", sep = \";\")\n",
    "#fuente_2 = \"https://datos.gob.es/en/catalogo?q=informe_consumo_nacional_datos_noviembre_2024\"\n",
    "\n",
    "consumo_semanal = pd.read_csv('bebidas_c_semanal.csv', sep = \";\")\n",
    "#fuente_3 = \"https://datos.gob.es/en/catalogo?q=informe_bebidas_alcoholicas\""
   ]
  },
  {
   "cell_type": "code",
   "execution_count": 4,
   "metadata": {},
   "outputs": [
    {
     "data": {
      "text/plain": [
       "Index(['Códigos de gasto con cantidad física', 'Cantidades medias consumidas',\n",
       "       'Periodo', 'Total'],\n",
       "      dtype='object')"
      ]
     },
     "execution_count": 4,
     "metadata": {},
     "output_type": "execute_result"
    }
   ],
   "source": [
    "consumo_espana.columns"
   ]
  },
  {
   "cell_type": "code",
   "execution_count": 7,
   "metadata": {},
   "outputs": [
    {
     "data": {
      "text/html": [
       "<div>\n",
       "<style scoped>\n",
       "    .dataframe tbody tr th:only-of-type {\n",
       "        vertical-align: middle;\n",
       "    }\n",
       "\n",
       "    .dataframe tbody tr th {\n",
       "        vertical-align: top;\n",
       "    }\n",
       "\n",
       "    .dataframe thead th {\n",
       "        text-align: right;\n",
       "    }\n",
       "</style>\n",
       "<table border=\"1\" class=\"dataframe\">\n",
       "  <thead>\n",
       "    <tr style=\"text-align: right;\">\n",
       "      <th></th>\n",
       "      <th>Códigos de gasto con cantidad física</th>\n",
       "      <th>Cantidades medias consumidas</th>\n",
       "      <th>Periodo</th>\n",
       "      <th>Total</th>\n",
       "    </tr>\n",
       "  </thead>\n",
       "  <tbody>\n",
       "    <tr>\n",
       "      <th>4968</th>\n",
       "      <td>02.1.2.1 T Vinos de uva (L)</td>\n",
       "      <td>Cantidad consumida total (miles de unidades)</td>\n",
       "      <td>2023</td>\n",
       "      <td>388.679</td>\n",
       "    </tr>\n",
       "    <tr>\n",
       "      <th>4969</th>\n",
       "      <td>02.1.2.1 T Vinos de uva (L)</td>\n",
       "      <td>Cantidad consumida total (miles de unidades)</td>\n",
       "      <td>2022</td>\n",
       "      <td>416.372</td>\n",
       "    </tr>\n",
       "    <tr>\n",
       "      <th>4970</th>\n",
       "      <td>02.1.2.1 T Vinos de uva (L)</td>\n",
       "      <td>Cantidad consumida total (miles de unidades)</td>\n",
       "      <td>2021</td>\n",
       "      <td>453.380</td>\n",
       "    </tr>\n",
       "    <tr>\n",
       "      <th>4971</th>\n",
       "      <td>02.1.2.1 T Vinos de uva (L)</td>\n",
       "      <td>Cantidad consumida total (miles de unidades)</td>\n",
       "      <td>2020</td>\n",
       "      <td>479.431</td>\n",
       "    </tr>\n",
       "    <tr>\n",
       "      <th>4972</th>\n",
       "      <td>02.1.2.1 T Vinos de uva (L)</td>\n",
       "      <td>Cantidad consumida total (miles de unidades)</td>\n",
       "      <td>2019</td>\n",
       "      <td>445.608</td>\n",
       "    </tr>\n",
       "  </tbody>\n",
       "</table>\n",
       "</div>"
      ],
      "text/plain": [
       "     Códigos de gasto con cantidad física  \\\n",
       "4968          02.1.2.1 T Vinos de uva (L)   \n",
       "4969          02.1.2.1 T Vinos de uva (L)   \n",
       "4970          02.1.2.1 T Vinos de uva (L)   \n",
       "4971          02.1.2.1 T Vinos de uva (L)   \n",
       "4972          02.1.2.1 T Vinos de uva (L)   \n",
       "\n",
       "                      Cantidades medias consumidas  Periodo    Total  \n",
       "4968  Cantidad consumida total (miles de unidades)     2023  388.679  \n",
       "4969  Cantidad consumida total (miles de unidades)     2022  416.372  \n",
       "4970  Cantidad consumida total (miles de unidades)     2021  453.380  \n",
       "4971  Cantidad consumida total (miles de unidades)     2020  479.431  \n",
       "4972  Cantidad consumida total (miles de unidades)     2019  445.608  "
      ]
     },
     "execution_count": 7,
     "metadata": {},
     "output_type": "execute_result"
    }
   ],
   "source": [
    "# Filtrar filas relacionadas con cualquier tipo de vino\n",
    "vinos = consumo_espana[consumo_espana['Códigos de gasto con cantidad física'].str.contains('Vinos de uva|Otros vinos|bebidas a base de vino', case=False, na=False)]\n",
    "\n",
    "# Crear un nuevo DataFrame llamado consumo_totales\n",
    "consumo_totales = vinos.copy()\n",
    "\n",
    "# Verificar el contenido del nuevo DataFrame\n",
    "consumo_totales.head()"
   ]
  },
  {
   "cell_type": "code",
   "execution_count": 7,
   "metadata": {},
   "outputs": [
    {
     "data": {
      "text/plain": [
       "Index(['Códigos de gasto con cantidad física', 'Cantidades medias consumidas',\n",
       "       'Periodo', 'Total'],\n",
       "      dtype='object')"
      ]
     },
     "execution_count": 7,
     "metadata": {},
     "output_type": "execute_result"
    }
   ],
   "source": [
    "consumo_totales.columns"
   ]
  },
  {
   "cell_type": "code",
   "execution_count": 8,
   "metadata": {},
   "outputs": [],
   "source": [
    "# Guardar el DataFrame \"consumo_totales\" como un archivo CSV\n",
    "consumo_totales.to_csv(\"consumo_totales.csv\", index=False)"
   ]
  },
  {
   "cell_type": "code",
   "execution_count": 20,
   "metadata": {},
   "outputs": [
    {
     "data": {
      "text/html": [
       "<div>\n",
       "<style scoped>\n",
       "    .dataframe tbody tr th:only-of-type {\n",
       "        vertical-align: middle;\n",
       "    }\n",
       "\n",
       "    .dataframe tbody tr th {\n",
       "        vertical-align: top;\n",
       "    }\n",
       "\n",
       "    .dataframe thead th {\n",
       "        text-align: right;\n",
       "    }\n",
       "</style>\n",
       "<table border=\"1\" class=\"dataframe\">\n",
       "  <thead>\n",
       "    <tr style=\"text-align: right;\">\n",
       "      <th></th>\n",
       "      <th>Periodo</th>\n",
       "    </tr>\n",
       "  </thead>\n",
       "  <tbody>\n",
       "    <tr>\n",
       "      <th>count</th>\n",
       "      <td>216.000000</td>\n",
       "    </tr>\n",
       "    <tr>\n",
       "      <th>mean</th>\n",
       "      <td>2014.500000</td>\n",
       "    </tr>\n",
       "    <tr>\n",
       "      <th>std</th>\n",
       "      <td>5.200179</td>\n",
       "    </tr>\n",
       "    <tr>\n",
       "      <th>min</th>\n",
       "      <td>2006.000000</td>\n",
       "    </tr>\n",
       "    <tr>\n",
       "      <th>25%</th>\n",
       "      <td>2010.000000</td>\n",
       "    </tr>\n",
       "    <tr>\n",
       "      <th>50%</th>\n",
       "      <td>2014.500000</td>\n",
       "    </tr>\n",
       "    <tr>\n",
       "      <th>75%</th>\n",
       "      <td>2019.000000</td>\n",
       "    </tr>\n",
       "    <tr>\n",
       "      <th>max</th>\n",
       "      <td>2023.000000</td>\n",
       "    </tr>\n",
       "  </tbody>\n",
       "</table>\n",
       "</div>"
      ],
      "text/plain": [
       "           Periodo\n",
       "count   216.000000\n",
       "mean   2014.500000\n",
       "std       5.200179\n",
       "min    2006.000000\n",
       "25%    2010.000000\n",
       "50%    2014.500000\n",
       "75%    2019.000000\n",
       "max    2023.000000"
      ]
     },
     "execution_count": 20,
     "metadata": {},
     "output_type": "execute_result"
    }
   ],
   "source": [
    "consumo_totales.describe()"
   ]
  },
  {
   "cell_type": "code",
   "execution_count": 6,
   "metadata": {},
   "outputs": [
    {
     "data": {
      "text/html": [
       "<div>\n",
       "<style scoped>\n",
       "    .dataframe tbody tr th:only-of-type {\n",
       "        vertical-align: middle;\n",
       "    }\n",
       "\n",
       "    .dataframe tbody tr th {\n",
       "        vertical-align: top;\n",
       "    }\n",
       "\n",
       "    .dataframe thead th {\n",
       "        text-align: right;\n",
       "    }\n",
       "</style>\n",
       "<table border=\"1\" class=\"dataframe\">\n",
       "  <thead>\n",
       "    <tr style=\"text-align: right;\">\n",
       "      <th></th>\n",
       "      <th>Sexo</th>\n",
       "      <th>Bebidas alcohólicas</th>\n",
       "      <th>Distribución semanal</th>\n",
       "      <th>Total</th>\n",
       "    </tr>\n",
       "  </thead>\n",
       "  <tbody>\n",
       "    <tr>\n",
       "      <th>4</th>\n",
       "      <td>Ambos sexos</td>\n",
       "      <td>Vinos o cava</td>\n",
       "      <td>TOTAL</td>\n",
       "      <td>100</td>\n",
       "    </tr>\n",
       "    <tr>\n",
       "      <th>5</th>\n",
       "      <td>Ambos sexos</td>\n",
       "      <td>Vinos o cava</td>\n",
       "      <td>Solo el fin de semana (V-D)</td>\n",
       "      <td>46,59</td>\n",
       "    </tr>\n",
       "    <tr>\n",
       "      <th>6</th>\n",
       "      <td>Ambos sexos</td>\n",
       "      <td>Vinos o cava</td>\n",
       "      <td>Solo entre semana (L-J)</td>\n",
       "      <td>2,58</td>\n",
       "    </tr>\n",
       "    <tr>\n",
       "      <th>7</th>\n",
       "      <td>Ambos sexos</td>\n",
       "      <td>Vinos o cava</td>\n",
       "      <td>Ambos indistintamente</td>\n",
       "      <td>50,83</td>\n",
       "    </tr>\n",
       "  </tbody>\n",
       "</table>\n",
       "</div>"
      ],
      "text/plain": [
       "          Sexo Bebidas alcohólicas         Distribución semanal  Total\n",
       "4  Ambos sexos        Vinos o cava                        TOTAL    100\n",
       "5  Ambos sexos        Vinos o cava  Solo el fin de semana (V-D)  46,59\n",
       "6  Ambos sexos        Vinos o cava      Solo entre semana (L-J)   2,58\n",
       "7  Ambos sexos        Vinos o cava        Ambos indistintamente  50,83"
      ]
     },
     "execution_count": 6,
     "metadata": {},
     "output_type": "execute_result"
    }
   ],
   "source": [
    "# Dataset de consumo semanal de bebidas alcoholicas en españa\n",
    "consumo_semanal.iloc[4:8]"
   ]
  },
  {
   "cell_type": "code",
   "execution_count": 10,
   "metadata": {},
   "outputs": [
    {
     "data": {
      "text/html": [
       "<div>\n",
       "<style scoped>\n",
       "    .dataframe tbody tr th:only-of-type {\n",
       "        vertical-align: middle;\n",
       "    }\n",
       "\n",
       "    .dataframe tbody tr th {\n",
       "        vertical-align: top;\n",
       "    }\n",
       "\n",
       "    .dataframe thead th {\n",
       "        text-align: right;\n",
       "    }\n",
       "</style>\n",
       "<table border=\"1\" class=\"dataframe\">\n",
       "  <thead>\n",
       "    <tr style=\"text-align: right;\">\n",
       "      <th></th>\n",
       "      <th>Sexo</th>\n",
       "      <th>Bebidas alcohólicas</th>\n",
       "      <th>Distribución semanal</th>\n",
       "      <th>Total</th>\n",
       "    </tr>\n",
       "  </thead>\n",
       "  <tbody>\n",
       "    <tr>\n",
       "      <th>count</th>\n",
       "      <td>72</td>\n",
       "      <td>72</td>\n",
       "      <td>72</td>\n",
       "      <td>72</td>\n",
       "    </tr>\n",
       "    <tr>\n",
       "      <th>unique</th>\n",
       "      <td>3</td>\n",
       "      <td>6</td>\n",
       "      <td>4</td>\n",
       "      <td>55</td>\n",
       "    </tr>\n",
       "    <tr>\n",
       "      <th>top</th>\n",
       "      <td>Ambos sexos</td>\n",
       "      <td>Cerveza con alcohol</td>\n",
       "      <td>TOTAL</td>\n",
       "      <td>100</td>\n",
       "    </tr>\n",
       "    <tr>\n",
       "      <th>freq</th>\n",
       "      <td>24</td>\n",
       "      <td>12</td>\n",
       "      <td>18</td>\n",
       "      <td>18</td>\n",
       "    </tr>\n",
       "  </tbody>\n",
       "</table>\n",
       "</div>"
      ],
      "text/plain": [
       "               Sexo  Bebidas alcohólicas Distribución semanal Total\n",
       "count            72                   72                   72    72\n",
       "unique            3                    6                    4    55\n",
       "top     Ambos sexos  Cerveza con alcohol                TOTAL   100\n",
       "freq             24                   12                   18    18"
      ]
     },
     "execution_count": 10,
     "metadata": {},
     "output_type": "execute_result"
    }
   ],
   "source": [
    "consumo_semanal.describe()"
   ]
  },
  {
   "cell_type": "code",
   "execution_count": 11,
   "metadata": {},
   "outputs": [
    {
     "data": {
      "text/plain": [
       "Index(['Sexo', 'Bebidas alcohólicas', 'Distribución semanal', 'Total'], dtype='object')"
      ]
     },
     "execution_count": 11,
     "metadata": {},
     "output_type": "execute_result"
    }
   ],
   "source": [
    "consumo_semanal.columns"
   ]
  },
  {
   "cell_type": "code",
   "execution_count": 12,
   "metadata": {},
   "outputs": [
    {
     "data": {
      "text/html": [
       "<div>\n",
       "<style scoped>\n",
       "    .dataframe tbody tr th:only-of-type {\n",
       "        vertical-align: middle;\n",
       "    }\n",
       "\n",
       "    .dataframe tbody tr th {\n",
       "        vertical-align: top;\n",
       "    }\n",
       "\n",
       "    .dataframe thead th {\n",
       "        text-align: right;\n",
       "    }\n",
       "</style>\n",
       "<table border=\"1\" class=\"dataframe\">\n",
       "  <thead>\n",
       "    <tr style=\"text-align: right;\">\n",
       "      <th></th>\n",
       "      <th>Sexo</th>\n",
       "      <th>Bebidas alcohólicas</th>\n",
       "      <th>Distribución semanal</th>\n",
       "      <th>Total</th>\n",
       "    </tr>\n",
       "  </thead>\n",
       "  <tbody>\n",
       "    <tr>\n",
       "      <th>4</th>\n",
       "      <td>Ambos sexos</td>\n",
       "      <td>Vinos o cava</td>\n",
       "      <td>TOTAL</td>\n",
       "      <td>100</td>\n",
       "    </tr>\n",
       "    <tr>\n",
       "      <th>5</th>\n",
       "      <td>Ambos sexos</td>\n",
       "      <td>Vinos o cava</td>\n",
       "      <td>Solo el fin de semana (V-D)</td>\n",
       "      <td>46,59</td>\n",
       "    </tr>\n",
       "    <tr>\n",
       "      <th>6</th>\n",
       "      <td>Ambos sexos</td>\n",
       "      <td>Vinos o cava</td>\n",
       "      <td>Solo entre semana (L-J)</td>\n",
       "      <td>2,58</td>\n",
       "    </tr>\n",
       "    <tr>\n",
       "      <th>7</th>\n",
       "      <td>Ambos sexos</td>\n",
       "      <td>Vinos o cava</td>\n",
       "      <td>Ambos indistintamente</td>\n",
       "      <td>50,83</td>\n",
       "    </tr>\n",
       "    <tr>\n",
       "      <th>28</th>\n",
       "      <td>Hombres</td>\n",
       "      <td>Vinos o cava</td>\n",
       "      <td>TOTAL</td>\n",
       "      <td>100</td>\n",
       "    </tr>\n",
       "    <tr>\n",
       "      <th>29</th>\n",
       "      <td>Hombres</td>\n",
       "      <td>Vinos o cava</td>\n",
       "      <td>Solo el fin de semana (V-D)</td>\n",
       "      <td>39,55</td>\n",
       "    </tr>\n",
       "    <tr>\n",
       "      <th>30</th>\n",
       "      <td>Hombres</td>\n",
       "      <td>Vinos o cava</td>\n",
       "      <td>Solo entre semana (L-J)</td>\n",
       "      <td>2,48</td>\n",
       "    </tr>\n",
       "    <tr>\n",
       "      <th>31</th>\n",
       "      <td>Hombres</td>\n",
       "      <td>Vinos o cava</td>\n",
       "      <td>Ambos indistintamente</td>\n",
       "      <td>57,97</td>\n",
       "    </tr>\n",
       "    <tr>\n",
       "      <th>52</th>\n",
       "      <td>Mujeres</td>\n",
       "      <td>Vinos o cava</td>\n",
       "      <td>TOTAL</td>\n",
       "      <td>100</td>\n",
       "    </tr>\n",
       "    <tr>\n",
       "      <th>53</th>\n",
       "      <td>Mujeres</td>\n",
       "      <td>Vinos o cava</td>\n",
       "      <td>Solo el fin de semana (V-D)</td>\n",
       "      <td>58,47</td>\n",
       "    </tr>\n",
       "    <tr>\n",
       "      <th>54</th>\n",
       "      <td>Mujeres</td>\n",
       "      <td>Vinos o cava</td>\n",
       "      <td>Solo entre semana (L-J)</td>\n",
       "      <td>2,75</td>\n",
       "    </tr>\n",
       "    <tr>\n",
       "      <th>55</th>\n",
       "      <td>Mujeres</td>\n",
       "      <td>Vinos o cava</td>\n",
       "      <td>Ambos indistintamente</td>\n",
       "      <td>38,78</td>\n",
       "    </tr>\n",
       "  </tbody>\n",
       "</table>\n",
       "</div>"
      ],
      "text/plain": [
       "           Sexo Bebidas alcohólicas         Distribución semanal  Total\n",
       "4   Ambos sexos        Vinos o cava                        TOTAL    100\n",
       "5   Ambos sexos        Vinos o cava  Solo el fin de semana (V-D)  46,59\n",
       "6   Ambos sexos        Vinos o cava      Solo entre semana (L-J)   2,58\n",
       "7   Ambos sexos        Vinos o cava        Ambos indistintamente  50,83\n",
       "28      Hombres        Vinos o cava                        TOTAL    100\n",
       "29      Hombres        Vinos o cava  Solo el fin de semana (V-D)  39,55\n",
       "30      Hombres        Vinos o cava      Solo entre semana (L-J)   2,48\n",
       "31      Hombres        Vinos o cava        Ambos indistintamente  57,97\n",
       "52      Mujeres        Vinos o cava                        TOTAL    100\n",
       "53      Mujeres        Vinos o cava  Solo el fin de semana (V-D)  58,47\n",
       "54      Mujeres        Vinos o cava      Solo entre semana (L-J)   2,75\n",
       "55      Mujeres        Vinos o cava        Ambos indistintamente  38,78"
      ]
     },
     "execution_count": 12,
     "metadata": {},
     "output_type": "execute_result"
    }
   ],
   "source": [
    "vinos_semanales = consumo_semanal[consumo_semanal['Bebidas alcohólicas'].str.contains('vino', case=False, na=False)]\n",
    "vinos_semanales"
   ]
  },
  {
   "cell_type": "markdown",
   "metadata": {},
   "source": [
    "## Trabajando con dataset \"vinos_semanales\""
   ]
  },
  {
   "cell_type": "code",
   "execution_count": 13,
   "metadata": {},
   "outputs": [
    {
     "name": "stdout",
     "output_type": "stream",
     "text": [
      "Index(['Sexo', 'Bebidas alcohólicas', 'Distribución semanal', 'Total'], dtype='object')\n"
     ]
    }
   ],
   "source": [
    "vinos_semanales.to_csv(\"vinos_semanales.csv\", index=False)\n",
    "print(vinos_semanales.columns)"
   ]
  },
  {
   "cell_type": "code",
   "execution_count": 14,
   "metadata": {},
   "outputs": [
    {
     "data": {
      "text/html": [
       "<div>\n",
       "<style scoped>\n",
       "    .dataframe tbody tr th:only-of-type {\n",
       "        vertical-align: middle;\n",
       "    }\n",
       "\n",
       "    .dataframe tbody tr th {\n",
       "        vertical-align: top;\n",
       "    }\n",
       "\n",
       "    .dataframe thead th {\n",
       "        text-align: right;\n",
       "    }\n",
       "</style>\n",
       "<table border=\"1\" class=\"dataframe\">\n",
       "  <thead>\n",
       "    <tr style=\"text-align: right;\">\n",
       "      <th>Distribución semanal</th>\n",
       "      <th>Solo el fin de semana (V-D)</th>\n",
       "      <th>Solo entre semana (L-J)</th>\n",
       "      <th>Ambos indistintamente</th>\n",
       "    </tr>\n",
       "    <tr>\n",
       "      <th>Sexo</th>\n",
       "      <th></th>\n",
       "      <th></th>\n",
       "      <th></th>\n",
       "    </tr>\n",
       "  </thead>\n",
       "  <tbody>\n",
       "    <tr>\n",
       "      <th>Ambos sexos</th>\n",
       "      <td>46,59</td>\n",
       "      <td>2,58</td>\n",
       "      <td>50,83</td>\n",
       "    </tr>\n",
       "    <tr>\n",
       "      <th>Hombres</th>\n",
       "      <td>39,55</td>\n",
       "      <td>2,48</td>\n",
       "      <td>57,97</td>\n",
       "    </tr>\n",
       "    <tr>\n",
       "      <th>Mujeres</th>\n",
       "      <td>58,47</td>\n",
       "      <td>2,75</td>\n",
       "      <td>38,78</td>\n",
       "    </tr>\n",
       "  </tbody>\n",
       "</table>\n",
       "</div>"
      ],
      "text/plain": [
       "Distribución semanal Solo el fin de semana (V-D) Solo entre semana (L-J)  \\\n",
       "Sexo                                                                       \n",
       "Ambos sexos                                46,59                    2,58   \n",
       "Hombres                                    39,55                    2,48   \n",
       "Mujeres                                    58,47                    2,75   \n",
       "\n",
       "Distribución semanal Ambos indistintamente  \n",
       "Sexo                                        \n",
       "Ambos sexos                          50,83  \n",
       "Hombres                              57,97  \n",
       "Mujeres                              38,78  "
      ]
     },
     "execution_count": 14,
     "metadata": {},
     "output_type": "execute_result"
    }
   ],
   "source": [
    "# Reorganizar el DataFrame para un formato más claro\n",
    "vinos_organizado = vinos_semanales.pivot(index='Sexo', columns='Distribución semanal', values='Total')\n",
    "\n",
    "# Asegurarnos de que las columnas estén en el orden correcto\n",
    "vinos_organizado = vinos_organizado[['Solo el fin de semana (V-D)', 'Solo entre semana (L-J)', 'Ambos indistintamente']]\n",
    "\n",
    "# Ver el resultado\n",
    "vinos_organizado"
   ]
  },
  {
   "cell_type": "code",
   "execution_count": 15,
   "metadata": {},
   "outputs": [
    {
     "data": {
      "image/png": "[encoded data removed]",
      "text/plain": [
       "<Figure size 640x480 with 1 Axes>"
      ]
     },
     "metadata": {},
     "output_type": "display_data"
    }
   ],
   "source": [
    "import matplotlib.pyplot as plt\n",
    "\n",
    "# Actualizar las categorías con nombres más apropiados\n",
    "categorias = ['Solo el fin de semana (V-D)', 'Solo entre semana (L-J)', 'Personas que beben toda la semana']\n",
    "sexos = vinos_organizado.index  # Índices como etiquetas para sexo\n",
    "valores = vinos_organizado.values  # Valores como matriz\n",
    "\n",
    "# Configuración del gráfico\n",
    "ancho = 0.2  # Ancho de las barras\n",
    "x = range(len(categorias))  # Posiciones para categorías\n",
    "\n",
    "# Crear barras agrupadas\n",
    "for i, sexo in enumerate(sexos):\n",
    "    plt.bar([pos + ancho*i for pos in x], valores[i], width=ancho, label=sexo)\n",
    "\n",
    "# Añadir etiquetas, título y leyenda\n",
    "plt.xticks([pos + ancho for pos in x], categorias, rotation=15)\n",
    "plt.xlabel('Distribución semanal')\n",
    "plt.ylabel('Total')\n",
    "plt.title('Distribución semanal del consumo de vino por sexo')\n",
    "plt.legend(title='Sexo')\n",
    "\n",
    "# Mostrar el gráfico\n",
    "plt.tight_layout()\n",
    "plt.show()\n"
   ]
  },
  {
   "cell_type": "code",
   "execution_count": null,
   "metadata": {},
   "outputs": [],
   "source": []
  },
  {
   "cell_type": "code",
   "execution_count": null,
   "metadata": {},
   "outputs": [],
   "source": []
  },
  {
   "cell_type": "code",
   "execution_count": null,
   "metadata": {},
   "outputs": [],
   "source": []
  }
 ],
 "metadata": {
  "kernelspec": {
   "display_name": "Python 3",
   "language": "python",
   "name": "python3"
  },
  "language_info": {
   "codemirror_mode": {
    "name": "ipython",
    "version": 3
   },
   "file_extension": ".py",
   "mimetype": "text/x-python",
   "name": "python",
   "nbconvert_exporter": "python",
   "pygments_lexer": "ipython3",
   "version": "3.13.2"
  }
 },
 "nbformat": 4,
 "nbformat_minor": 2
}
