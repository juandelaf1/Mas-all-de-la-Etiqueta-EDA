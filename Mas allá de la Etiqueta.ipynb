{
 "cells": [
  {
   "cell_type": "markdown",
   "metadata": {},
   "source": [
    "# Más Allá de la Etiqueta \n",
    "### Analísis sobre Precios y Regiones Vinícolas"
   ]
  },
  {
   "cell_type": "markdown",
   "metadata": {},
   "source": [
    "\"En este análisis exploratorio de datos (EDA), examinaremos la información disponible sobre vinos españoles para identificar patrones relevantes relacionados con sus características y precios. Prestaremos especial atención a las denominaciones de origen (D.O.) y las regiones, buscando comprender cómo estos factores podrían influir en el mercado vinícola. Además, exploraremos potenciales oportunidades en regiones menos reconocidas para aportar perspectivas útiles y fundamentadas.\""
   ]
  },
  {
   "cell_type": "markdown",
   "metadata": {},
   "source": [
    "## Hipotesis Principal\n",
    "\n",
    "### La relación calidad-precio es el principal factor que influye en las calificaciones y reseñas positivas de los vinos en España."
   ]
  },
  {
   "cell_type": "markdown",
   "metadata": {},
   "source": [
    "### Hipotesis secundarias\n",
    "\n",
    "Hipotesis 2 : Los vinos provenientes de ciertas regiones específicas de España (por ejemplo, La Rioja o Ribera del Duero) tienden a recibir mejores calificaciones debido a su reputación histórica y calidad percibida.\n",
    "\n",
    "\n",
    "Hipotesis 3 : Los vinos de regiones menos conocidas pueden destacar por su autenticidad y una buena relación calidad-precio.\n",
    "\n",
    "\n",
    "Hipotesis 4 : Los vinos de bodegas más reconocidas obtienen mejores calificaciones, independientemente del precio.\n",
    "\n",
    "hipotesis 5 : el equilibrio entre acidez y cuerpo en un vino suele asociarse con mejores valoraciones y precios más altos.\n",
    "\n"
   ]
  },
  {
   "cell_type": "markdown",
   "metadata": {},
   "source": [
    "#### Interrogantes que motivan nuestro EDA\n",
    "\n",
    "- Influye el nombre de una bodega, en la idea que tienen las personas sobre la calidad  un vino?\n",
    "\n",
    "- Influye el precio de una botella de vino en la valoracion que puede tener el consumidor?\n",
    "\n",
    "- Influye quizás la zona de donde proviene el vino o la uva en el precio de la botella o esta relacionado auténticamente con los costes de produccion? es solo fama?\n",
    "\n",
    "- La milla de oro del vino español tiene garantizado un mercado, solo por ser la milla de oro ?\n",
    "\n",
    "- El precio del mercado, lo famoso que es el nombre del vino, las reseñas que tiene, el precio que tiene y si ese     precio es barato o caro; permite a la población conocer el vino  o hacerlo mas exclusivo?\n",
    "\n",
    "- La reputación de ciertas regiones vinícolas en España mejora la percepción de calidad, influye en el etiquetado y estimula la creación de más marcas de vino\n",
    "\n",
    "- se consume mas vino con los años?\n",
    "\n",
    "- se consume mas vino por meses o por época del año?\n",
    "\n",
    "- se consume mas vino los dias de semana, fines de semana o por horas del dia? comida o cena\n",
    "\n"
   ]
  },
  {
   "cell_type": "code",
   "execution_count": 2,
   "metadata": {},
   "outputs": [],
   "source": [
    "import pandas as pd"
   ]
  },
  {
   "cell_type": "code",
   "execution_count": 14,
   "metadata": {},
   "outputs": [],
   "source": [
    "vinos_espana= pd.read_csv(\"wines_SPA.csv\", sep = \",\")\n",
    "fuente_1 = \"https://www.kaggle.com/code/sasakitetsuya/spanish-wine-analysis-clustering-wine-map\"\n",
    "\n",
    "consumo_espana= pd.read_csv(\"totales_vino_y_otros.csv\", sep = \";\")\n",
    "fuente_2 = \"https://datos.gob.es/en/catalogo?q=informe_consumo_nacional_datos_noviembre_2024\"\n",
    "\n",
    "consumo_semanal = pd.read_csv('bebidas_c_semanal.csv', sep = \";\")\n",
    "fuente_3 = \"https://datos.gob.es/en/catalogo?q=informe_bebidas_alcoholicas\""
   ]
  },
  {
   "cell_type": "code",
   "execution_count": null,
   "metadata": {},
   "outputs": [
    {
     "data": {
      "text/html": [
       "<div>\n",
       "<style scoped>\n",
       "    .dataframe tbody tr th:only-of-type {\n",
       "        vertical-align: middle;\n",
       "    }\n",
       "\n",
       "    .dataframe tbody tr th {\n",
       "        vertical-align: top;\n",
       "    }\n",
       "\n",
       "    .dataframe thead th {\n",
       "        text-align: right;\n",
       "    }\n",
       "</style>\n",
       "<table border=\"1\" class=\"dataframe\">\n",
       "  <thead>\n",
       "    <tr style=\"text-align: right;\">\n",
       "      <th></th>\n",
       "      <th>winery</th>\n",
       "      <th>wine</th>\n",
       "      <th>year</th>\n",
       "      <th>rating</th>\n",
       "      <th>num_reviews</th>\n",
       "      <th>country</th>\n",
       "      <th>region</th>\n",
       "      <th>price</th>\n",
       "      <th>type</th>\n",
       "      <th>body</th>\n",
       "      <th>acidity</th>\n",
       "    </tr>\n",
       "  </thead>\n",
       "  <tbody>\n",
       "    <tr>\n",
       "      <th>0</th>\n",
       "      <td>Teso La Monja</td>\n",
       "      <td>Tinto</td>\n",
       "      <td>2013</td>\n",
       "      <td>4.9</td>\n",
       "      <td>58</td>\n",
       "      <td>Espana</td>\n",
       "      <td>Toro</td>\n",
       "      <td>995.00</td>\n",
       "      <td>Toro Red</td>\n",
       "      <td>5.0</td>\n",
       "      <td>3.0</td>\n",
       "    </tr>\n",
       "    <tr>\n",
       "      <th>1</th>\n",
       "      <td>Artadi</td>\n",
       "      <td>Vina El Pison</td>\n",
       "      <td>2018</td>\n",
       "      <td>4.9</td>\n",
       "      <td>31</td>\n",
       "      <td>Espana</td>\n",
       "      <td>Vino de Espana</td>\n",
       "      <td>313.50</td>\n",
       "      <td>Tempranillo</td>\n",
       "      <td>4.0</td>\n",
       "      <td>2.0</td>\n",
       "    </tr>\n",
       "    <tr>\n",
       "      <th>2</th>\n",
       "      <td>Vega Sicilia</td>\n",
       "      <td>Unico</td>\n",
       "      <td>2009</td>\n",
       "      <td>4.8</td>\n",
       "      <td>1793</td>\n",
       "      <td>Espana</td>\n",
       "      <td>Ribera del Duero</td>\n",
       "      <td>324.95</td>\n",
       "      <td>Ribera Del Duero Red</td>\n",
       "      <td>5.0</td>\n",
       "      <td>3.0</td>\n",
       "    </tr>\n",
       "    <tr>\n",
       "      <th>3</th>\n",
       "      <td>Vega Sicilia</td>\n",
       "      <td>Unico</td>\n",
       "      <td>1999</td>\n",
       "      <td>4.8</td>\n",
       "      <td>1705</td>\n",
       "      <td>Espana</td>\n",
       "      <td>Ribera del Duero</td>\n",
       "      <td>692.96</td>\n",
       "      <td>Ribera Del Duero Red</td>\n",
       "      <td>5.0</td>\n",
       "      <td>3.0</td>\n",
       "    </tr>\n",
       "    <tr>\n",
       "      <th>4</th>\n",
       "      <td>Vega Sicilia</td>\n",
       "      <td>Unico</td>\n",
       "      <td>1996</td>\n",
       "      <td>4.8</td>\n",
       "      <td>1309</td>\n",
       "      <td>Espana</td>\n",
       "      <td>Ribera del Duero</td>\n",
       "      <td>778.06</td>\n",
       "      <td>Ribera Del Duero Red</td>\n",
       "      <td>5.0</td>\n",
       "      <td>3.0</td>\n",
       "    </tr>\n",
       "  </tbody>\n",
       "</table>\n",
       "</div>"
      ],
      "text/plain": [
       "          winery           wine  year  rating  num_reviews country  \\\n",
       "0  Teso La Monja          Tinto  2013     4.9           58  Espana   \n",
       "1         Artadi  Vina El Pison  2018     4.9           31  Espana   \n",
       "2   Vega Sicilia          Unico  2009     4.8         1793  Espana   \n",
       "3   Vega Sicilia          Unico  1999     4.8         1705  Espana   \n",
       "4   Vega Sicilia          Unico  1996     4.8         1309  Espana   \n",
       "\n",
       "             region   price                  type  body  acidity  \n",
       "0              Toro  995.00              Toro Red   5.0      3.0  \n",
       "1    Vino de Espana  313.50           Tempranillo   4.0      2.0  \n",
       "2  Ribera del Duero  324.95  Ribera Del Duero Red   5.0      3.0  \n",
       "3  Ribera del Duero  692.96  Ribera Del Duero Red   5.0      3.0  \n",
       "4  Ribera del Duero  778.06  Ribera Del Duero Red   5.0      3.0  "
      ]
     },
     "execution_count": 53,
     "metadata": {},
     "output_type": "execute_result"
    }
   ],
   "source": [
    "# Dataset de vinos españoles \n",
    "\n",
    "vinos_espana.head()"
   ]
  },
  {
   "cell_type": "code",
   "execution_count": null,
   "metadata": {},
   "outputs": [
    {
     "data": {
      "text/plain": [
       "(7500, 11)"
      ]
     },
     "execution_count": 49,
     "metadata": {},
     "output_type": "execute_result"
    }
   ],
   "source": [
    "vinos_espana.shape"
   ]
  },
  {
   "cell_type": "code",
   "execution_count": 57,
   "metadata": {},
   "outputs": [
    {
     "data": {
      "text/plain": [
       "Index(['winery', 'wine', 'year', 'rating', 'num_reviews', 'country', 'region',\n",
       "       'price', 'type', 'body', 'acidity'],\n",
       "      dtype='object')"
      ]
     },
     "execution_count": 57,
     "metadata": {},
     "output_type": "execute_result"
    }
   ],
   "source": [
    "vinos_espana.columns"
   ]
  },
  {
   "cell_type": "code",
   "execution_count": null,
   "metadata": {},
   "outputs": [
    {
     "name": "stdout",
     "output_type": "stream",
     "text": [
      "<class 'pandas.core.frame.DataFrame'>\n",
      "RangeIndex: 6120 entries, 0 to 6119\n",
      "Data columns (total 4 columns):\n",
      " #   Column                                Non-Null Count  Dtype \n",
      "---  ------                                --------------  ----- \n",
      " 0   Códigos de gasto con cantidad física  6120 non-null   object\n",
      " 1   Cantidades medias consumidas          6120 non-null   object\n",
      " 2   Periodo                               6120 non-null   int64 \n",
      " 3   Total                                 6120 non-null   object\n",
      "dtypes: int64(1), object(3)\n",
      "memory usage: 191.4+ KB\n"
     ]
    }
   ],
   "source": [
    "consumo_espana= pd.read_csv(\"totales_vino_y_otros.csv\", sep = \";\")\n",
    "consumo_espana.info()"
   ]
  },
  {
   "cell_type": "code",
   "execution_count": null,
   "metadata": {},
   "outputs": [
    {
     "data": {
      "text/html": [
       "<div>\n",
       "<style scoped>\n",
       "    .dataframe tbody tr th:only-of-type {\n",
       "        vertical-align: middle;\n",
       "    }\n",
       "\n",
       "    .dataframe tbody tr th {\n",
       "        vertical-align: top;\n",
       "    }\n",
       "\n",
       "    .dataframe thead th {\n",
       "        text-align: right;\n",
       "    }\n",
       "</style>\n",
       "<table border=\"1\" class=\"dataframe\">\n",
       "  <thead>\n",
       "    <tr style=\"text-align: right;\">\n",
       "      <th></th>\n",
       "      <th>Códigos de gasto con cantidad física</th>\n",
       "      <th>Cantidades medias consumidas</th>\n",
       "      <th>Periodo</th>\n",
       "      <th>Total</th>\n",
       "    </tr>\n",
       "  </thead>\n",
       "  <tbody>\n",
       "    <tr>\n",
       "      <th>4970</th>\n",
       "      <td>02.1.2.1 T Vinos de uva (L)</td>\n",
       "      <td>Cantidad consumida total (miles de unidades)</td>\n",
       "      <td>2021</td>\n",
       "      <td>453.380</td>\n",
       "    </tr>\n",
       "    <tr>\n",
       "      <th>4971</th>\n",
       "      <td>02.1.2.1 T Vinos de uva (L)</td>\n",
       "      <td>Cantidad consumida total (miles de unidades)</td>\n",
       "      <td>2020</td>\n",
       "      <td>479.431</td>\n",
       "    </tr>\n",
       "    <tr>\n",
       "      <th>4972</th>\n",
       "      <td>02.1.2.1 T Vinos de uva (L)</td>\n",
       "      <td>Cantidad consumida total (miles de unidades)</td>\n",
       "      <td>2019</td>\n",
       "      <td>445.608</td>\n",
       "    </tr>\n",
       "    <tr>\n",
       "      <th>4973</th>\n",
       "      <td>02.1.2.1 T Vinos de uva (L)</td>\n",
       "      <td>Cantidad consumida total (miles de unidades)</td>\n",
       "      <td>2018</td>\n",
       "      <td>393.061</td>\n",
       "    </tr>\n",
       "    <tr>\n",
       "      <th>4974</th>\n",
       "      <td>02.1.2.1 T Vinos de uva (L)</td>\n",
       "      <td>Cantidad consumida total (miles de unidades)</td>\n",
       "      <td>2017</td>\n",
       "      <td>464.184</td>\n",
       "    </tr>\n",
       "  </tbody>\n",
       "</table>\n",
       "</div>"
      ],
      "text/plain": [
       "     Códigos de gasto con cantidad física  \\\n",
       "4970          02.1.2.1 T Vinos de uva (L)   \n",
       "4971          02.1.2.1 T Vinos de uva (L)   \n",
       "4972          02.1.2.1 T Vinos de uva (L)   \n",
       "4973          02.1.2.1 T Vinos de uva (L)   \n",
       "4974          02.1.2.1 T Vinos de uva (L)   \n",
       "\n",
       "                      Cantidades medias consumidas  Periodo    Total  \n",
       "4970  Cantidad consumida total (miles de unidades)     2021  453.380  \n",
       "4971  Cantidad consumida total (miles de unidades)     2020  479.431  \n",
       "4972  Cantidad consumida total (miles de unidades)     2019  445.608  \n",
       "4973  Cantidad consumida total (miles de unidades)     2018  393.061  \n",
       "4974  Cantidad consumida total (miles de unidades)     2017  464.184  "
      ]
     },
     "execution_count": 71,
     "metadata": {},
     "output_type": "execute_result"
    }
   ],
   "source": [
    "# Dataset de consumo anual de vino y otros en españa\n",
    "consumo_espana.iloc[4970:4975]"
   ]
  },
  {
   "cell_type": "code",
   "execution_count": null,
   "metadata": {},
   "outputs": [
    {
     "data": {
      "text/html": [
       "<div>\n",
       "<style scoped>\n",
       "    .dataframe tbody tr th:only-of-type {\n",
       "        vertical-align: middle;\n",
       "    }\n",
       "\n",
       "    .dataframe tbody tr th {\n",
       "        vertical-align: top;\n",
       "    }\n",
       "\n",
       "    .dataframe thead th {\n",
       "        text-align: right;\n",
       "    }\n",
       "</style>\n",
       "<table border=\"1\" class=\"dataframe\">\n",
       "  <thead>\n",
       "    <tr style=\"text-align: right;\">\n",
       "      <th></th>\n",
       "      <th>Sexo</th>\n",
       "      <th>Bebidas alcohólicas</th>\n",
       "      <th>Distribución semanal</th>\n",
       "      <th>Total</th>\n",
       "    </tr>\n",
       "  </thead>\n",
       "  <tbody>\n",
       "    <tr>\n",
       "      <th>4</th>\n",
       "      <td>Ambos sexos</td>\n",
       "      <td>Vinos o cava</td>\n",
       "      <td>TOTAL</td>\n",
       "      <td>100</td>\n",
       "    </tr>\n",
       "    <tr>\n",
       "      <th>5</th>\n",
       "      <td>Ambos sexos</td>\n",
       "      <td>Vinos o cava</td>\n",
       "      <td>Solo el fin de semana (V-D)</td>\n",
       "      <td>46,59</td>\n",
       "    </tr>\n",
       "    <tr>\n",
       "      <th>6</th>\n",
       "      <td>Ambos sexos</td>\n",
       "      <td>Vinos o cava</td>\n",
       "      <td>Solo entre semana (L-J)</td>\n",
       "      <td>2,58</td>\n",
       "    </tr>\n",
       "    <tr>\n",
       "      <th>7</th>\n",
       "      <td>Ambos sexos</td>\n",
       "      <td>Vinos o cava</td>\n",
       "      <td>Ambos indistintamente</td>\n",
       "      <td>50,83</td>\n",
       "    </tr>\n",
       "  </tbody>\n",
       "</table>\n",
       "</div>"
      ],
      "text/plain": [
       "          Sexo Bebidas alcohólicas         Distribución semanal  Total\n",
       "4  Ambos sexos        Vinos o cava                        TOTAL    100\n",
       "5  Ambos sexos        Vinos o cava  Solo el fin de semana (V-D)  46,59\n",
       "6  Ambos sexos        Vinos o cava      Solo entre semana (L-J)   2,58\n",
       "7  Ambos sexos        Vinos o cava        Ambos indistintamente  50,83"
      ]
     },
     "execution_count": 13,
     "metadata": {},
     "output_type": "execute_result"
    }
   ],
   "source": [
    "# Dataset de consumo semanal de bebidas alcoholicas en españa\n",
    "\n",
    "import pandas as pd\n",
    "consumo_semanal = pd.read_csv('bebidas_c_semanal.csv', sep = \";\")\n",
    "consumo_semanal.iloc[4:8]"
   ]
  }
 ],
 "metadata": {
  "kernelspec": {
   "display_name": "Python 3",
   "language": "python",
   "name": "python3"
  },
  "language_info": {
   "codemirror_mode": {
    "name": "ipython",
    "version": 3
   },
   "file_extension": ".py",
   "mimetype": "text/x-python",
   "name": "python",
   "nbconvert_exporter": "python",
   "pygments_lexer": "ipython3",
   "version": "3.13.2"
  }
 },
 "nbformat": 4,
 "nbformat_minor": 2
}
